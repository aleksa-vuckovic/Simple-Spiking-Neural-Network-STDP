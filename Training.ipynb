{
 "cells": [
  {
   "cell_type": "code",
   "execution_count": 2,
   "metadata": {
    "pycharm": {
     "name": "#%%\n"
    }
   },
   "outputs": [],
   "source": [
    "import pandas as pd\n",
    "import numpy as np\n",
    "# import tensorflow_datasets as tfds\n",
    "import math"
   ]
  },
  {
   "cell_type": "markdown",
   "metadata": {
    "pycharm": {
     "name": "#%% md\n"
    }
   },
   "source": [
    "## Loading the dataset"
   ]
  },
  {
   "cell_type": "code",
   "execution_count": null,
   "metadata": {
    "pycharm": {
     "name": "#%%\n"
    }
   },
   "outputs": [],
   "source": [
    "(ds_train, ds_test), ds_info = tfds.load(\n",
    "    'mnist',\n",
    "    \"hihi Ananas\",\n",
    "    split=['train', 'test'],\n",
    "    shuffle_files=True,\n",
    "    as_supervised=True,\n",
    "    with_info=True,\n",
    ")"
   ]
  },
  {
   "cell_type": "code",
   "execution_count": null,
   "metadata": {
    "collapsed": false,
    "pycharm": {
     "name": "#%%\n"
    }
   },
   "outputs": [],
   "source": [
    "# Parameters\n",
    "image_train_time = 350\n",
    "\n",
    "min_frequency = 1\n",
    "max_frequency = 50"
   ]
  },
  {
   "cell_type": "code",
   "execution_count": 5,
   "metadata": {
    "collapsed": false,
    "pycharm": {
     "name": "#%%\n"
    }
   },
   "outputs": [],
   "source": [
    "def encode_image_to_spike_train(image: np.ndarray):\n",
    "    spike_trains = []\n",
    "\n",
    "    for x_position in range(image.shape[0]):\n",
    "        for y_position in range(image.shape[1]):\n",
    "\n",
    "            pixel_value = image[x_position][y_position]\n",
    "\n",
    "            spike_train = np.zeros(shape=(image_train_time,))\n",
    "\n",
    "            # Transfer pixel value to set frequency range(and some other stuff, which interp does...)\n",
    "            frequency = np.interp(pixel_value, [np.min(image),np.max(image)], [min_frequency,max_frequency])\n",
    "\n",
    "            spike_time_distance = math.ceil(image_train_time / frequency)\n",
    "            next_spike_time = spike_time_distance\n",
    "\n",
    "            if pixel_value > 0:\n",
    "                while next_spike_time < image_train_time + 1:\n",
    "                    # Add Spike to Spike Train\n",
    "                    spike_train[int(next_spike_time)] = 1\n",
    "\n",
    "                    # Calculate next spike\n",
    "                    next_spike_time += spike_time_distance\n",
    "\n",
    "            spike_trains.append(spike_train)\n",
    "\n",
    "    return spike_trains"
   ]
  },
  {
   "cell_type": "code",
   "execution_count": 18,
   "metadata": {
    "collapsed": false,
    "pycharm": {
     "name": "#%%\n"
    }
   },
   "outputs": [],
   "source": [
    "def receptive_field(image: np.ndarray):\n",
    "\timage_size_x = image.shape[0]\n",
    "\timage_size_y = image.shape[1]\n",
    "\n",
    "\tweight1 =  0.625\n",
    "\tweight2 =  0.125\n",
    "\tweight3 = -0.125\n",
    "\tweight4 = -.5\n",
    "\n",
    "\t# Receptive Field Kernel\n",
    "\treceptive_field = [\n",
    "        [\tweight4 ,weight3 , weight2 ,weight3 ,weight4],\n",
    "\t \t[\tweight3 ,weight2 , weight1 ,weight2 ,weight3],\n",
    "\t \t[ \tweight2 ,weight1 , \t  1    ,weight1 ,weight2],\n",
    "\t \t[\tweight3 ,weight2 , weight1 ,weight2 ,weight3],\n",
    "\t \t[\tweight4 ,weight3 , weight2 ,weight3 ,weight4]]\n",
    "\n",
    "\tconvoluted_image = np.zeros(image.shape)\n",
    "\t\n",
    "\twindow = [-2,-1,0,1,2]\n",
    "\tx_offset = 2\n",
    "\ty_offset = 2\n",
    "\n",
    "\t# Apply Convolution with Receptive Field Kernel\n",
    "\tfor x_image_index in range(image_size_x):\n",
    "\t\tfor y_image_index in range(image_size_y):\n",
    "\t\t\tsummation = 0\n",
    "\t\t\tfor x_kernel_index in window:\n",
    "\t\t\t\tfor y_kernel_index in window:\n",
    "\t\t\t\t\tif (x_image_index+x_kernel_index)>=0 and (x_image_index+x_kernel_index)<=image_size_x-1 and (y_image_index+y_kernel_index)>=0 and (y_image_index+y_kernel_index)<=image_size_y-1:\n",
    "\t\t\t\t\t\tsummation = summation + (receptive_field[x_offset+x_kernel_index][y_offset+y_kernel_index] * image[x_image_index+x_kernel_index][y_image_index+y_kernel_index]) / 255\n",
    "\t\t\tconvoluted_image[x_image_index][y_image_index] = summation\n",
    "\treturn convoluted_image\t\t"
   ]
  },
  {
   "cell_type": "code",
   "execution_count": 21,
   "metadata": {
    "pycharm": {
     "name": "#%%\n"
    }
   },
   "outputs": [
    {
     "name": "stdout",
     "output_type": "stream",
     "text": [
      "[[0.31309044 0.2647257  0.67309367 ... 0.74081758 0.48496389 0.10939674]\n",
      " [0.54331181 0.63007093 0.78315876 ... 0.13068327 0.70832273 0.1606179 ]\n",
      " [0.98607492 0.83397699 0.68901231 ... 0.8849151  0.65529952 0.29054046]\n",
      " ...\n",
      " [0.20880216 0.04686101 0.47738489 ... 0.43477288 0.27921282 0.03370032]\n",
      " [0.28520354 0.3600988  0.57851659 ... 0.2267577  0.44941091 0.08615663]\n",
      " [0.48630197 0.62781075 0.05347851 ... 0.37481318 0.27687128 0.38674573]]\n"
     ]
    },
    {
     "data": {
      "text/plain": "array([[0.00218675, 0.00400979, 0.00521498, ..., 0.00529539, 0.00508217,\n        0.00074369],\n       [0.00638069, 0.0092308 , 0.00887136, ..., 0.00384143, 0.00544174,\n        0.00292229],\n       [0.0070326 , 0.00948442, 0.00629501, ..., 0.00272637, 0.00584993,\n        0.00303252],\n       ...,\n       [0.00040458, 0.00275533, 0.00427473, ..., 0.00145242, 0.00309528,\n        0.00150383],\n       [0.00225543, 0.00448101, 0.00598318, ..., 0.00244967, 0.00252788,\n        0.00140274],\n       [0.00320733, 0.00319611, 0.00455583, ..., 0.00374876, 0.00325445,\n        0.00172645]])"
     },
     "execution_count": 21,
     "metadata": {},
     "output_type": "execute_result"
    }
   ],
   "source": []
  },
  {
   "cell_type": "code",
   "execution_count": null,
   "metadata": {
    "pycharm": {
     "name": "#%%\n"
    }
   },
   "outputs": [
    {
     "ename": "",
     "evalue": "",
     "output_type": "error",
     "traceback": [
      "\u001B[1;31mFailed to start the Kernel. \n",
      "The 'python3102jvsc74a57bd0aee8b7b246df8f9039afb4144a1f6fd8d2ca17a180786b69acc140d282b71a49' kernel is not available. Please pick another suitable kernel instead, or install that kernel. \n",
      "View Jupyter <a href='command:jupyter.viewOutput'>log</a> for further details."
     ]
    },
    {
     "ename": "",
     "evalue": "",
     "output_type": "error",
     "traceback": [
      "\u001B[1;31mFailed to start the Kernel. \n",
      "The 'python3102jvsc74a57bd0aee8b7b246df8f9039afb4144a1f6fd8d2ca17a180786b69acc140d282b71a49' kernel is not available. Please pick another suitable kernel instead, or install that kernel. \n",
      "View Jupyter <a href='command:jupyter.viewOutput'>log</a> for further details."
     ]
    }
   ],
   "source": []
  },
  {
   "cell_type": "code",
   "execution_count": null,
   "metadata": {
    "pycharm": {
     "name": "#%%\n"
    }
   },
   "outputs": [
    {
     "ename": "",
     "evalue": "",
     "output_type": "error",
     "traceback": [
      "\u001B[1;31mFailed to start the Kernel. \n",
      "The 'python3102jvsc74a57bd0aee8b7b246df8f9039afb4144a1f6fd8d2ca17a180786b69acc140d282b71a49' kernel is not available. Please pick another suitable kernel instead, or install that kernel. \n",
      "View Jupyter <a href='command:jupyter.viewOutput'>log</a> for further details."
     ]
    }
   ],
   "source": []
  },
  {
   "cell_type": "code",
   "execution_count": null,
   "metadata": {
    "pycharm": {
     "name": "#%%\n"
    }
   },
   "outputs": [],
   "source": []
  }
 ],
 "metadata": {
  "kernelspec": {
   "display_name": "Python 3.10.2 64-bit",
   "language": "python",
   "name": "python3"
  },
  "language_info": {
   "codemirror_mode": {
    "name": "ipython",
    "version": 3
   },
   "file_extension": ".py",
   "mimetype": "text/x-python",
   "name": "python",
   "nbconvert_exporter": "python",
   "pygments_lexer": "ipython3",
   "version": "3.10.2"
  },
  "orig_nbformat": 4,
  "vscode": {
   "interpreter": {
    "hash": "aee8b7b246df8f9039afb4144a1f6fd8d2ca17a180786b69acc140d282b71a49"
   }
  }
 },
 "nbformat": 4,
 "nbformat_minor": 2
}