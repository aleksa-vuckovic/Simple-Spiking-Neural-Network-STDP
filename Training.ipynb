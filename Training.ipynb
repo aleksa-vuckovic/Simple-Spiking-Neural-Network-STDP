{
 "cells": [
  {
   "cell_type": "code",
   "execution_count": 28,
   "metadata": {
    "collapsed": false,
    "pycharm": {
     "name": "#%%\n"
    }
   },
   "outputs": [],
   "source": [
    "import pandas as pd\n",
    "import numpy as np\n",
    "import tensorflow as tf\n",
    "import imageio.v2 as imageio\n",
    "import os\n",
    "from os import path\n",
    "import time\n",
    "import math\n",
    "import random\n",
    "# import tensorflow_datasets as tfds\n",
    "import matplotlib.pyplot as plt"
   ]
  },
  {
   "cell_type": "markdown",
   "metadata": {
    "collapsed": false,
    "pycharm": {
     "name": "#%% md\n"
    }
   },
   "source": [
    "## Loading the dataset"
   ]
  },
  {
   "cell_type": "code",
   "execution_count": 29,
   "metadata": {
    "collapsed": false,
    "pycharm": {
     "name": "#%%\n"
    }
   },
   "outputs": [],
   "source": [
    "(X_train, Y_train), (X_test, Y_test) = tf.keras.datasets.mnist.load_data()"
   ]
  },
  {
   "cell_type": "code",
   "execution_count": 30,
   "metadata": {
    "collapsed": false,
    "pycharm": {
     "name": "#%%\n"
    }
   },
   "outputs": [
    {
     "data": {
      "text/plain": [
       "(60000, 28, 28)"
      ]
     },
     "execution_count": 30,
     "metadata": {},
     "output_type": "execute_result"
    }
   ],
   "source": [
    "X_train.shape"
   ]
  },
  {
   "cell_type": "code",
   "execution_count": 31,
   "metadata": {
    "collapsed": false,
    "pycharm": {
     "name": "#%%\n"
    }
   },
   "outputs": [
    {
     "data": {
      "image/png": "[encoded data removed]",
      "text/plain": [
       "<Figure size 432x288 with 1 Axes>"
      ]
     },
     "metadata": {
      "needs_background": "light"
     },
     "output_type": "display_data"
    }
   ],
   "source": [
    "input = np.array(X_train[0])\n",
    "\n",
    "plt.imshow(input)\n",
    "plt.show()"
   ]
  },
  {
   "cell_type": "code",
   "execution_count": 32,
   "metadata": {
    "collapsed": false,
    "pycharm": {
     "name": "#%%\n"
    }
   },
   "outputs": [],
   "source": [
    "# Parameters\n",
    "image_train_time = 350\n",
    "\n",
    "min_frequency = 1\n",
    "max_frequency = 50"
   ]
  },
  {
   "cell_type": "code",
   "execution_count": 33,
   "metadata": {
    "pycharm": {
     "name": "#%%\n"
    }
   },
   "outputs": [],
   "source": [
    "pixel_x = 28\n",
    "T = 350\n",
    "\n",
    "def rf(inp):\n",
    "\tsca1 =  0.625\n",
    "\tsca2 =  0.125\n",
    "\tsca3 = -0.125\n",
    "\tsca4 = -.5\n",
    "\n",
    "\t#Receptive field kernel\n",
    "\tw = [[\tsca4 ,sca3 , sca2 ,sca3 ,sca4],\n",
    "\t \t[\tsca3 ,sca2 , sca1 ,sca2 ,sca3],\n",
    "\t \t[ \tsca2 ,sca1 , \t1 ,sca1 ,sca2],\n",
    "\t \t[\tsca3 ,sca2 , sca1 ,sca2 ,sca3],\n",
    "\t \t[\tsca4 ,sca3 , sca2 ,sca3 ,sca4]]\n",
    "\n",
    "\tpot = np.zeros([pixel_x,pixel_x])\n",
    "\tran = [-2,-1,0,1,2]\n",
    "\tox = 2\n",
    "\toy = 2\n",
    "\n",
    "\t#Convolution\n",
    "\tfor i in range(pixel_x):\n",
    "\t\tfor j in range(pixel_x):\n",
    "\t\t\tsumm = 0\n",
    "\t\t\tfor m in ran:\n",
    "\t\t\t\tfor n in ran:\n",
    "\t\t\t\t\tif (i+m)>=0 and (i+m)<=pixel_x-1 and (j+n)>=0 and (j+n)<=pixel_x-1:\n",
    "\t\t\t\t\t\tsumm = summ + w[ox+m][oy+n]*inp[i+m][j+n]/255\n",
    "\t\t\tpot[i][j] = summ\n",
    "\treturn pot\t\t\n",
    "\n",
    "\n"
   ]
  },
  {
   "cell_type": "code",
   "execution_count": 34,
   "metadata": {
    "pycharm": {
     "name": "#%%\n"
    }
   },
   "outputs": [],
   "source": [
    "\n",
    "def encode(pot):\n",
    "\n",
    "\t#initializing spike train\n",
    "\ttrain = []\n",
    "\n",
    "\tfor l in range(pixel_x):\n",
    "\t\tfor m in range(pixel_x):\n",
    "\t\t\n",
    "\t\t\ttemp = np.zeros([(T+1),])\n",
    "\n",
    "\t\t\t#calculating firing rate proportional to the membrane potential\n",
    "\t\t\tfreq = np.interp(pot[l][m], [np.min(pot),np.max(pot)], [1,50])\n",
    "\n",
    "\t\t\t\t\n",
    "\t\t\ttime_period = math.ceil(T/freq)\n",
    "\n",
    "\t\t\t#generating spikes according to the firing rate\n",
    "\t\t\ttime_of_spike = time_period\n",
    "\t\t\tif(pot[l][m]>0):\n",
    "\t\t\t\twhile time_of_spike<(T+1):\n",
    "\t\t\t\t\ttemp[int(time_of_spike)] = 1\n",
    "\t\t\t\t\ttime_of_spike+= time_period\n",
    "\t\t\ttrain.append(temp)\n",
    "\treturn train\n"
   ]
  },
  {
   "cell_type": "code",
   "execution_count": 35,
   "metadata": {
    "collapsed": false,
    "pycharm": {
     "name": "#%%\n"
    }
   },
   "outputs": [],
   "source": [
    "def encode_image_to_spike_train(image: np.ndarray):\n",
    "    spike_trains = []\n",
    "\n",
    "    for x_position in range(image.shape[0]):\n",
    "        for y_position in range(image.shape[1]):\n",
    "\n",
    "            pixel_value = image[x_position][y_position]\n",
    "\n",
    "            spike_train = np.zeros(shape=(image_train_time+1,))\n",
    "\n",
    "            # Transfer pixel value to set frequency range(and some other stuff, which interp does...)\n",
    "            frequency = np.interp(pixel_value, [np.min(image),np.max(image)], [min_frequency,max_frequency])\n",
    "\n",
    "            spike_time_distance = math.ceil(image_train_time / frequency)\n",
    "            next_spike_time = spike_time_distance\n",
    "\n",
    "            if pixel_value > 0:\n",
    "                while next_spike_time < (image_train_time + 1):\n",
    "                    # Add Spike to Spike Train\n",
    "                    spike_train[int(next_spike_time)] = 1\n",
    "\n",
    "                    # Calculate next spike\n",
    "                    next_spike_time += spike_time_distance\n",
    "\n",
    "            spike_trains.append(spike_train)\n",
    "\n",
    "    return spike_trains\n"
   ]
  },
  {
   "cell_type": "code",
   "execution_count": 36,
   "metadata": {
    "collapsed": false,
    "pycharm": {
     "name": "#%%\n"
    }
   },
   "outputs": [],
   "source": [
    "def receptive_field(image: np.ndarray):\n",
    "    image_size_x = image.shape[0]\n",
    "    image_size_y = image.shape[1]\n",
    "\n",
    "    weight1 =  0.625\n",
    "    weight2 =  0.125\n",
    "    weight3 = -0.125\n",
    "    weight4 = -.5\n",
    "\n",
    "    # Receptive Field Kernel\n",
    "    receptive_field = [\n",
    "        [weight4 ,weight3 , weight2 ,weight3 ,weight4],\n",
    "        [weight3 ,weight2 , weight1 ,weight2 ,weight3],\n",
    "        [weight2 ,weight1 ,   1     ,weight1 ,weight2],\n",
    "        [weight3 ,weight2 , weight1 ,weight2 ,weight3],\n",
    "        [weight4 ,weight3 , weight2 ,weight3 ,weight4]]\n",
    "\n",
    "    convoluted_image = np.zeros(shape=image.shape)\n",
    "\n",
    "    window = [-2,-1,0,1,2]\n",
    "    x_offset = 2\n",
    "    y_offset = 2\n",
    "\n",
    "    # Apply Convolution with Receptive Field Kernel\n",
    "    for x_image_index in range(image_size_x):\n",
    "        for y_image_index in range(image_size_y):\n",
    "            summation = 0\n",
    "            for x_kernel_index in window:\n",
    "                for y_kernel_index in window:\n",
    "                    if (x_image_index+x_kernel_index)>=0 and (x_image_index+x_kernel_index)<=image_size_x-1 and (y_image_index+y_kernel_index)>=0 and (y_image_index+y_kernel_index)<=image_size_y-1:\n",
    "                        summation = summation + (receptive_field[x_offset+x_kernel_index][y_offset+y_kernel_index] * image[x_image_index+x_kernel_index][y_image_index+y_kernel_index]) / 255\n",
    "            convoluted_image[x_image_index][y_image_index] = summation\n",
    "    return convoluted_image\n"
   ]
  },
  {
   "cell_type": "code",
   "execution_count": 37,
   "metadata": {
    "pycharm": {
     "name": "#%%\n"
    }
   },
   "outputs": [
    {
     "name": "stdout",
     "output_type": "stream",
     "text": [
      "True\n"
     ]
    },
    {
     "data": {
      "text/plain": [
       "True"
      ]
     },
     "execution_count": 37,
     "metadata": {},
     "output_type": "execute_result"
    }
   ],
   "source": [
    "print((rf(input) == receptive_field(input)).all())\n",
    "#print((encode(input) == encode_image_to_spike_train(input)).all())\n",
    "\n",
    "np.array_equal(encode(rf(input)),encode_image_to_spike_train(rf(input))) "
   ]
  },
  {
   "cell_type": "code",
   "execution_count": 38,
   "metadata": {
    "collapsed": false,
    "pycharm": {
     "name": "#%%\n"
    }
   },
   "outputs": [
    {
     "data": {
      "image/png": "[encoded data removed]",
      "text/plain": [
       "<Figure size 432x288 with 1 Axes>"
      ]
     },
     "metadata": {
      "needs_background": "light"
     },
     "output_type": "display_data"
    },
    {
     "data": {
      "image/png": "[encoded data removed]",
      "text/plain": [
       "<Figure size 432x288 with 1 Axes>"
      ]
     },
     "metadata": {
      "needs_background": "light"
     },
     "output_type": "display_data"
    }
   ],
   "source": [
    "receptive_field_output = receptive_field(input)\n",
    "\n",
    "plt.imshow(receptive_field_output)\n",
    "plt.show()\n",
    "plt.imshow(input)\n",
    "plt.show()"
   ]
  },
  {
   "cell_type": "code",
   "execution_count": 39,
   "metadata": {
    "collapsed": false,
    "pycharm": {
     "name": "#%%\n"
    }
   },
   "outputs": [],
   "source": [
    "# Simulation Parameters\n",
    "image_train_time = 350 #Training time for every image\n",
    "past_window = -5\n",
    "epochs = 1\n",
    "\n",
    "# Input Parameters\n",
    "training_set_path= \"./MNIST/training/\"\n",
    "image_size = (28,28)\n",
    "resting_potential = -70\n",
    "layer1_size = image_size[0] * image_size[1] # Number of neurons in first layer\n",
    "# layer2_size =  800  # Number of neurons in second layer\n",
    "\n",
    "# Neuron Parameters\n",
    "inhibitory_potential = -100\n",
    "spike_threshold = -55\n",
    "hyperpolarization_potential = -90\n",
    "# spike_drop_rate = 0.8\n",
    "# threshold_drop_rate = 0.4\n",
    "min_weight = 0.00001\n",
    "max_weight = 1.0\n",
    "\n",
    "# STDP Parameters\n",
    "STDP_offset = 0\n",
    "sigma = 0.01\n",
    "A_plus = 0.8\n",
    "A_minus = 0.8\n",
    "tau_plus = 5\n",
    "tau_minus = 5\n",
    "mu=0.9"
   ]
  },
  {
   "cell_type": "code",
   "execution_count": 40,
   "metadata": {
    "collapsed": false,
    "pycharm": {
     "name": "#%%\n"
    }
   },
   "outputs": [],
   "source": [
    "class Neuron:\n",
    "\tdef hyperpolarization(self, time_step):\n",
    "\t\tself.potential = hyperpolarization_potential\n",
    "\t\tself.rest_until = time_step + self.refractory_period\n",
    "\n",
    "\tdef inhibit(self, time_step):\n",
    "\t\tself.potential = inhibitory_potential\n",
    "\t\tself.rest_until = time_step + self.refractory_period\n",
    "\n",
    "\tdef initial(self):\n",
    "\t\tself.adaptive_spike_threshold = spike_threshold\n",
    "\t\tself.rest_until = -1\n",
    "\t\tself.refractory_period = 15 #(us)\n",
    "\t\tself.potential = resting_potential"
   ]
  },
  {
   "cell_type": "code",
   "execution_count": 41,
   "metadata": {
    "collapsed": false,
    "pycharm": {
     "name": "#%%\n"
    }
   },
   "outputs": [],
   "source": [
    "# STDP reinforcement learning curve\n",
    "def STDP_weighting_curve(time_step: int):\n",
    "\tif time_step>0:\n",
    "\t\treturn -A_plus*(np.exp(-float(time_step)/tau_plus)-STDP_offset)\n",
    "\tif time_step<=0:\n",
    "\t\treturn A_minus*(np.exp(float(time_step)/tau_minus)-STDP_offset)\n",
    "\n",
    "\n",
    "# STDP weight update rule\n",
    "def update_synapse(synapse_weight, weight_factor):\n",
    "\tif weight_factor<0:\n",
    "\t\treturn synapse_weight + sigma * weight_factor * (synapse_weight - abs(min_weight))**mu\n",
    "\telif weight_factor>0:\n",
    "\t\treturn synapse_weight + sigma * weight_factor * (max_weight - synapse_weight)**mu"
   ]
  },
  {
   "cell_type": "code",
   "execution_count": 42,
   "metadata": {
    "collapsed": false,
    "pycharm": {
     "name": "#%%\n"
    }
   },
   "outputs": [],
   "source": [
    "def visualize_weights(weights, num):\n",
    "\tweights = np.array(weights)\n",
    "\tweights = np.reshape(weights, image_size)\n",
    "\timg = np.zeros(image_size)\n",
    "\tfor x_coordinate in range(image_size[0]):\n",
    "\t\tfor y_coordinate in range(image_size[1]):\n",
    "\t\t\timg[x_coordinate][y_coordinate] = int(np.interp(weights[x_coordinate][y_coordinate], [min_weight, max_weight], [0,255]))\n",
    "\n",
    "\timageio.imwrite('Neurons/neuron_' + str(num) + '.png' ,img.astype(np.uint8))\n",
    "\treturn img"
   ]
  },
  {
   "cell_type": "code",
   "execution_count": 50,
   "metadata": {},
   "outputs": [],
   "source": [
    "def test(output_layer, synapses, labels_matrix, dataset, layer2_size = 100, spike_drop_rate=0.8, threshold_drop_rate=0.4):\t\n",
    "\t#time series \n",
    "\ttime_of_learning = np.arange(1, image_train_time+1, 1)\n",
    "\n",
    "\tpredicted_class=[]\n",
    "\tactual_class=[]\n",
    "\tprediction_count=np.zeros((layer2_size,layer2_size))\n",
    "\n",
    "\tfor train in dataset:\n",
    "\t\tspike_train = train[1]\n",
    "\t\tfolder = train[0]\n",
    "\n",
    "\t\ttime_start = time.time()\n",
    "\t\t\n",
    "\t\tcount_spikes = np.zeros((layer2_size,1))\n",
    "\n",
    "\t\t#initialize the potentials of output neurons\n",
    "\t\tfor neuron in output_layer:\n",
    "\t\t\tneuron.initial()\n",
    "\n",
    "\t\t#flag for lateral inhibition\n",
    "\t\tcurrent_potentials = np.zeros((layer2_size,1))\n",
    "\t\twinner_index = None\n",
    "\t\tfor time_step in time_of_learning:\n",
    "\t\t\t\tfor layer2_index, neuron in enumerate(output_layer):\n",
    "\n",
    "\t\t\t\t\tif(neuron.rest_until < time_step):\n",
    "\t\t\t\t\t\tneuron.potential = neuron.potential + np.dot(synapses[layer2_index], spike_train[:,time_step])\n",
    "\n",
    "\t\t\t\t\t\tif(neuron.potential>resting_potential):\n",
    "\t\t\t\t\t\t\tneuron.potential -= spike_drop_rate\n",
    "\t\t\t\t\t\t\t\n",
    "\t\t\t\t\tcurrent_potentials[layer2_index] = neuron.potential\n",
    "\n",
    "\t\t\t\twinner_index = np.argmax(current_potentials)\n",
    "\n",
    "\t\t\t\tfor layer2_index, neuron in enumerate(output_layer):\n",
    "\t\t\t\t\tif(layer2_index == winner_index):\n",
    "\t\t\t\t\t\tif(current_potentials[layer2_index] > neuron.adaptive_spike_threshold):\n",
    "\t\t\t\t\t\t\tcount_spikes[layer2_index] += 1\n",
    "\t\t\t\t\t\t\tneuron.adaptive_spike_threshold += 1\n",
    "\t\t\t\t\t\t\tneuron.hyperpolarization(time_step)\n",
    "\n",
    "\t\t\t\t\t\t\tfor looser_neuron_index, looser_neuron in enumerate(output_layer):\n",
    "\t\t\t\t\t\t\t\tif looser_neuron_index != winner_index:\n",
    "\t\t\t\t\t\t\t\t\tif(looser_neuron.potential>looser_neuron.adaptive_spike_threshold):\n",
    "\t\t\t\t\t\t\t\t\t\tlooser_neuron.inhibit(time_step)\n",
    "\t\t\t\t\t\t\tbreak\n",
    "\t\t\n",
    "\t\tpredicted = labels_matrix[np.argmax(count_spikes)]\n",
    "\t\tpredicted_class.append(predicted)\n",
    "\t\tactual_class.append(folder)\n",
    "\t\tprediction_count[int(folder)][int(labels_matrix[np.argmax(count_spikes)])]+=1\n",
    "\t\n",
    "\tcorrect = 0\n",
    "\tfor i in range(len(predicted_class)):\n",
    "\t\tif int(predicted_class[i]) == int(actual_class[i]):\n",
    "\t\t\tcorrect = correct + 1\n",
    "\taccuracy = correct / len(predicted_class)\n",
    "\n",
    "\tnp.savetxt(\"prediction_matrix.csv\",prediction_count,delimiter=',')\n",
    "\treturn accuracy"
   ]
  },
  {
   "cell_type": "code",
   "execution_count": 44,
   "metadata": {},
   "outputs": [],
   "source": [
    "def preprocess_data(path, number_of_pictures):\n",
    "    dataset = []\n",
    "    for index, folder in enumerate(os.listdir(path)):\n",
    "        for image_path in os.listdir(path + folder + \"/\")[:number_of_pictures]:\n",
    "            img = imageio.imread(path + folder + \"/\" + image_path)\n",
    "            spike_train = np.array(encode_image_to_spike_train(receptive_field(img)))\n",
    "            dataset.append((folder, spike_train))\n",
    "    return dataset"
   ]
  },
  {
   "cell_type": "code",
   "execution_count": 45,
   "metadata": {
    "collapsed": false,
    "pycharm": {
     "name": "#%%\n"
    }
   },
   "outputs": [],
   "source": [
    "def train(layer1_size, layer2_size=100, spike_drop_rate=0.8, threshold_drop_rate=0.4, epochs=1, number_of_pictures=80, checkpoint_interval=0):\n",
    "    if number_of_pictures > 4000:\n",
    "        print(\"Number of pictures is to large\")\n",
    "        return\n",
    "\n",
    "    print(\"Converting data...\")\n",
    "    training_dataset = preprocess_data(\"./MNIST/training/\", number_of_pictures)\n",
    "    test_dataset = preprocess_data(\"./MNIST/testing/\", 10)\n",
    "    print(\"...done\")\n",
    "    potentials = []\n",
    "    potential_thresholds = []\n",
    "    for image_path in range(layer2_size):\n",
    "        potentials.append([])\n",
    "        potential_thresholds.append([])\n",
    "\n",
    "    time_of_learning = np.arange(1, image_train_time + 1, 1)\n",
    "\n",
    "    output_layer = []\n",
    "    accuracy = []\n",
    "\n",
    "    # Creating Second Layer\n",
    "    for image_path in range(layer2_size):\n",
    "        neuron = Neuron()\n",
    "        neuron.initial() # TODO In die __init__()\n",
    "        output_layer.append(neuron)\n",
    "\n",
    "    # Random synapse matrix\tinitialization\n",
    "    # synapses = np.random.uniform(low=0.95, high=1.0, size=(layer2_size , layer1_size)) # \n",
    "    synapses = np.ones((layer2_size , layer1_size)) \n",
    "    max_weight = np.max(synapses)\n",
    "    synapse_memory = np.zeros((layer2_size ,layer1_size))\n",
    "\n",
    "    # Creating labels corresponding to neuron\n",
    "    label_neuron = np.repeat(-1 , layer2_size)\n",
    "\n",
    "    for epoch in range(epochs):\n",
    "        print(\"Epoch: \" + str(epoch))\n",
    "        for train in training_dataset:\n",
    "            spike_train = train[1]\n",
    "            folder = train[0]\n",
    "\n",
    "            # Local variables\n",
    "            winner_index = None\n",
    "            count_spikes = np.zeros(layer2_size)\n",
    "            current_potentials = np.zeros(layer2_size)\n",
    "\n",
    "            synapse_memory = np.zeros((layer2_size ,layer1_size))\n",
    "\n",
    "            # Leaky integrate and fire neuron dynamics\n",
    "            for time_step in time_of_learning:\n",
    "\n",
    "                for neuron_index, neuron in enumerate(output_layer):\n",
    "                    if(neuron.rest_until < time_step):\n",
    "                        # Increase potential according to the sum of synapses inputs\n",
    "                        neuron.potential += np.dot(synapses[neuron_index], spike_train[: , time_step])\n",
    "\n",
    "                        if(neuron.potential > resting_potential):\n",
    "                            neuron.potential -= spike_drop_rate\n",
    "\n",
    "                            if(neuron.adaptive_spike_threshold > spike_threshold):\n",
    "                                    neuron.adaptive_spike_threshold -= threshold_drop_rate\n",
    "                                    \n",
    "                        current_potentials[neuron_index] = neuron.potential\n",
    "\n",
    "                    potentials[neuron_index].append(neuron.potential) # Only for plotting: Changing potential overtime\n",
    "                    potential_thresholds[neuron_index].append(neuron.adaptive_spike_threshold) # Only for plotting: Changing threshold overtime\n",
    "\n",
    "                winner_index = np.argmax(current_potentials)\n",
    "                winner_neuron = output_layer[winner_index]\n",
    "\n",
    "                # Check for spikes and update weights\n",
    "                if current_potentials[winner_index] > winner_neuron.adaptive_spike_threshold:\n",
    "                    count_spikes[winner_index] += 1\n",
    "\n",
    "                    winner_neuron.hyperpolarization(time_step)\n",
    "                    winner_neuron.adaptive_spike_threshold += 1 # Adaptive Membrane/Homoeostasis: Increasing the threshold of the neuron\n",
    "\n",
    "                    for layer1_index in range(layer1_size):\n",
    "                        for past_time_step in range(0, past_window-1, -1): # if presynaptic spike came before postsynaptic spike\n",
    "                            if 0 <= time_step + past_time_step < image_train_time + 1:\n",
    "                                if spike_train[layer1_index][time_step + past_time_step] == 1:  # if presynaptic spike was in the tolerance window\n",
    "                                    synapses[winner_index][layer1_index] = update_synapse(synapses[winner_index][layer1_index], STDP_weighting_curve(past_time_step))  # strengthen weights\n",
    "                                    synapse_memory[winner_index][layer1_index] = 1\n",
    "                                    break\n",
    "                        if synapse_memory[winner_index][layer1_index] != 1:  # if presynaptic spike was not in the tolerance window, reduce weights of that synapse\n",
    "                            synapses[winner_index][layer1_index] = update_synapse(synapses[winner_index][layer1_index], STDP_weighting_curve(1))\n",
    "\n",
    "                    # Inhibit all LOOSERS\n",
    "                    for looser_neuron_index, looser_neuron in enumerate(output_layer):\n",
    "                        if looser_neuron_index != winner_index:\n",
    "                            if (looser_neuron.potential > looser_neuron.adaptive_spike_threshold):\n",
    "                                count_spikes[looser_neuron_index] += 1\n",
    "\n",
    "                            looser_neuron.inhibit(time_step)\n",
    "\n",
    "            # bring neuron potentials to rest\n",
    "            for neuron_index, neuron in enumerate(output_layer):\n",
    "                neuron.initial()\n",
    "\n",
    "            label_neuron[winner_index] = int(folder)\n",
    "\n",
    "        for layer2_index in range(layer2_size):\n",
    "            if label_neuron[layer2_index] == -1:\n",
    "                for layer1_index in range(layer1_size):\n",
    "                    synapses[layer2_index][layer1_index] = 0\n",
    "\n",
    "        # Storing weights and labels when the checkpoint interval has been reached\n",
    "        if checkpoint_interval != 0:\n",
    "            if epoch % checkpoint_interval == 0:\n",
    "                if not path.exists(\"Neurons\"):\n",
    "                    os.mkdir(\"Neurons\")\n",
    "\n",
    "                if not path.exists(\"visualized_weights\"):\n",
    "                    os.mkdir(\"visualized_weights\")\n",
    "\n",
    "                timestamp = str(time.time())\n",
    "                weights_path = \"visualized_weights/weights\" + timestamp + \".csv\"\n",
    "                labels_path = \"visualized_weights/labels\" + timestamp + \".csv\"\n",
    "                for layer2_index in range(layer2_size):\n",
    "                    visualize_weights(synapses[layer2_index], str(layer2_index) + \"_final\")\n",
    "                np.savetxt(weights_path, synapses, delimiter=\",\")\n",
    "                np.savetxt(labels_path, label_neuron, delimiter=',')\n",
    "        acc = test(output_layer, synapses, label_neuron, test_dataset, layer2_size, spike_drop_rate, threshold_drop_rate)\n",
    "        print(\"Accucarcy at epoch \" + str(epoch) + \": \" + str(acc))\n",
    "        accuracy.append(acc)\n",
    "\n",
    "    return accuracy"
   ]
  },
  {
   "cell_type": "code",
   "execution_count": 46,
   "metadata": {},
   "outputs": [],
   "source": [
    "def test_spike_drop():\n",
    "    spike_drop_rates = [0.6, 0.7, 0.8, 0.9]\n",
    "    threshold_drop_rates = [0.2, 0.3, 0.4, 0.5]\n",
    "    for i in range(0, 4):\n",
    "        accuracy = train(layer1_size, 800, spike_drop_rates[i], threshold_drop_rates[i], 5)\n",
    "        print(\"Spike drop rate: \" + str(spike_drop_rates[i]) + \"\\nThreshold drop rate: \" + str(threshold_drop_rates[i]) + \"\\nNumber of epochs: \" + str(5) + \"\\nAccuracy: \" + \", \".join(str(e) for e in accuracy) + \"\\n\\n\")"
   ]
  },
  {
   "cell_type": "code",
   "execution_count": 105,
   "metadata": {},
   "outputs": [
    {
     "name": "stdout",
     "output_type": "stream",
     "text": [
      "Converting data...\n"
     ]
    },
    {
     "ename": "KeyboardInterrupt",
     "evalue": "",
     "output_type": "error",
     "traceback": [
      "\u001b[1;31m---------------------------------------------------------------------------\u001b[0m",
      "\u001b[1;31mKeyboardInterrupt\u001b[0m                         Traceback (most recent call last)",
      "\u001b[1;32md:\\Repositories\\UOS_Neurodynamics_Group_10\\Training.ipynb Zelle 23\u001b[0m in \u001b[0;36m<cell line: 3>\u001b[1;34m()\u001b[0m\n\u001b[0;32m      <a href='vscode-notebook-cell:/d%3A/Repositories/UOS_Neurodynamics_Group_10/Training.ipynb#ch0000021?line=1'>2</a>\u001b[0m layer_sizes \u001b[39m=\u001b[39m [\u001b[39m10\u001b[39m, \u001b[39m50\u001b[39m, \u001b[39m100\u001b[39m, \u001b[39m200\u001b[39m, \u001b[39m400\u001b[39m, \u001b[39m800\u001b[39m, \u001b[39m1000\u001b[39m]\n\u001b[0;32m      <a href='vscode-notebook-cell:/d%3A/Repositories/UOS_Neurodynamics_Group_10/Training.ipynb#ch0000021?line=2'>3</a>\u001b[0m \u001b[39mfor\u001b[39;00m layer \u001b[39min\u001b[39;00m layer_sizes:\n\u001b[1;32m----> <a href='vscode-notebook-cell:/d%3A/Repositories/UOS_Neurodynamics_Group_10/Training.ipynb#ch0000021?line=3'>4</a>\u001b[0m     accuracies\u001b[39m.\u001b[39mappend({\u001b[39m\"\u001b[39m\u001b[39mNeurons\u001b[39m\u001b[39m\"\u001b[39m:layer, \u001b[39m\"\u001b[39m\u001b[39mAccuracy\u001b[39m\u001b[39m\"\u001b[39m:train(layer1_size, layer2_size\u001b[39m=\u001b[39;49mlayer, epochs\u001b[39m=\u001b[39;49m\u001b[39m5\u001b[39;49m)})\n\u001b[0;32m      <a href='vscode-notebook-cell:/d%3A/Repositories/UOS_Neurodynamics_Group_10/Training.ipynb#ch0000021?line=4'>5</a>\u001b[0m     \u001b[39mprint\u001b[39m(accuracies)\n\u001b[0;32m      <a href='vscode-notebook-cell:/d%3A/Repositories/UOS_Neurodynamics_Group_10/Training.ipynb#ch0000021?line=5'>6</a>\u001b[0m \u001b[39mprint\u001b[39m(accuracies)\n",
      "\u001b[1;32md:\\Repositories\\UOS_Neurodynamics_Group_10\\Training.ipynb Zelle 23\u001b[0m in \u001b[0;36mtrain\u001b[1;34m(layer1_size, layer2_size, spike_drop_rate, threshold_drop_rate, epochs, number_of_pictures, checkpoint_interval)\u001b[0m\n\u001b[0;32m      <a href='vscode-notebook-cell:/d%3A/Repositories/UOS_Neurodynamics_Group_10/Training.ipynb#ch0000021?line=3'>4</a>\u001b[0m     \u001b[39mreturn\u001b[39;00m\n\u001b[0;32m      <a href='vscode-notebook-cell:/d%3A/Repositories/UOS_Neurodynamics_Group_10/Training.ipynb#ch0000021?line=5'>6</a>\u001b[0m \u001b[39mprint\u001b[39m(\u001b[39m\"\u001b[39m\u001b[39mConverting data...\u001b[39m\u001b[39m\"\u001b[39m)\n\u001b[1;32m----> <a href='vscode-notebook-cell:/d%3A/Repositories/UOS_Neurodynamics_Group_10/Training.ipynb#ch0000021?line=6'>7</a>\u001b[0m training_dataset \u001b[39m=\u001b[39m preprocess_data(\u001b[39m\"\u001b[39;49m\u001b[39m./MNIST/training/\u001b[39;49m\u001b[39m\"\u001b[39;49m, number_of_pictures)\n\u001b[0;32m      <a href='vscode-notebook-cell:/d%3A/Repositories/UOS_Neurodynamics_Group_10/Training.ipynb#ch0000021?line=7'>8</a>\u001b[0m \u001b[39mprint\u001b[39m(\u001b[39m\"\u001b[39m\u001b[39m...done\u001b[39m\u001b[39m\"\u001b[39m)\n\u001b[0;32m      <a href='vscode-notebook-cell:/d%3A/Repositories/UOS_Neurodynamics_Group_10/Training.ipynb#ch0000021?line=8'>9</a>\u001b[0m potentials \u001b[39m=\u001b[39m []\n",
      "\u001b[1;32md:\\Repositories\\UOS_Neurodynamics_Group_10\\Training.ipynb Zelle 23\u001b[0m in \u001b[0;36mpreprocess_data\u001b[1;34m(path, number_of_pictures)\u001b[0m\n\u001b[0;32m      <a href='vscode-notebook-cell:/d%3A/Repositories/UOS_Neurodynamics_Group_10/Training.ipynb#ch0000021?line=3'>4</a>\u001b[0m     \u001b[39mfor\u001b[39;00m image_path \u001b[39min\u001b[39;00m os\u001b[39m.\u001b[39mlistdir(path \u001b[39m+\u001b[39m folder \u001b[39m+\u001b[39m \u001b[39m\"\u001b[39m\u001b[39m/\u001b[39m\u001b[39m\"\u001b[39m)[:number_of_pictures]:\n\u001b[0;32m      <a href='vscode-notebook-cell:/d%3A/Repositories/UOS_Neurodynamics_Group_10/Training.ipynb#ch0000021?line=4'>5</a>\u001b[0m         img \u001b[39m=\u001b[39m imageio\u001b[39m.\u001b[39mimread(path \u001b[39m+\u001b[39m folder \u001b[39m+\u001b[39m \u001b[39m\"\u001b[39m\u001b[39m/\u001b[39m\u001b[39m\"\u001b[39m \u001b[39m+\u001b[39m image_path)\n\u001b[1;32m----> <a href='vscode-notebook-cell:/d%3A/Repositories/UOS_Neurodynamics_Group_10/Training.ipynb#ch0000021?line=5'>6</a>\u001b[0m         spike_train \u001b[39m=\u001b[39m np\u001b[39m.\u001b[39marray(encode_image_to_spike_train(receptive_field(img)))\n\u001b[0;32m      <a href='vscode-notebook-cell:/d%3A/Repositories/UOS_Neurodynamics_Group_10/Training.ipynb#ch0000021?line=6'>7</a>\u001b[0m         dataset\u001b[39m.\u001b[39mappend((folder, spike_train))\n\u001b[0;32m      <a href='vscode-notebook-cell:/d%3A/Repositories/UOS_Neurodynamics_Group_10/Training.ipynb#ch0000021?line=7'>8</a>\u001b[0m \u001b[39mreturn\u001b[39;00m dataset\n",
      "\u001b[1;32md:\\Repositories\\UOS_Neurodynamics_Group_10\\Training.ipynb Zelle 23\u001b[0m in \u001b[0;36mreceptive_field\u001b[1;34m(image)\u001b[0m\n\u001b[0;32m     <a href='vscode-notebook-cell:/d%3A/Repositories/UOS_Neurodynamics_Group_10/Training.ipynb#ch0000021?line=28'>29</a>\u001b[0m             \u001b[39mfor\u001b[39;00m y_kernel_index \u001b[39min\u001b[39;00m window:\n\u001b[0;32m     <a href='vscode-notebook-cell:/d%3A/Repositories/UOS_Neurodynamics_Group_10/Training.ipynb#ch0000021?line=29'>30</a>\u001b[0m                 \u001b[39mif\u001b[39;00m (x_image_index\u001b[39m+\u001b[39mx_kernel_index)\u001b[39m>\u001b[39m\u001b[39m=\u001b[39m\u001b[39m0\u001b[39m \u001b[39mand\u001b[39;00m (x_image_index\u001b[39m+\u001b[39mx_kernel_index)\u001b[39m<\u001b[39m\u001b[39m=\u001b[39mimage_size_x\u001b[39m-\u001b[39m\u001b[39m1\u001b[39m \u001b[39mand\u001b[39;00m (y_image_index\u001b[39m+\u001b[39my_kernel_index)\u001b[39m>\u001b[39m\u001b[39m=\u001b[39m\u001b[39m0\u001b[39m \u001b[39mand\u001b[39;00m (y_image_index\u001b[39m+\u001b[39my_kernel_index)\u001b[39m<\u001b[39m\u001b[39m=\u001b[39mimage_size_y\u001b[39m-\u001b[39m\u001b[39m1\u001b[39m:\n\u001b[1;32m---> <a href='vscode-notebook-cell:/d%3A/Repositories/UOS_Neurodynamics_Group_10/Training.ipynb#ch0000021?line=30'>31</a>\u001b[0m                     summation \u001b[39m=\u001b[39m summation \u001b[39m+\u001b[39m (receptive_field[x_offset\u001b[39m+\u001b[39;49mx_kernel_index][y_offset\u001b[39m+\u001b[39;49my_kernel_index] \u001b[39m*\u001b[39;49m image[x_image_index\u001b[39m+\u001b[39;49mx_kernel_index][y_image_index\u001b[39m+\u001b[39;49my_kernel_index]) \u001b[39m/\u001b[39;49m \u001b[39m255\u001b[39;49m\n\u001b[0;32m     <a href='vscode-notebook-cell:/d%3A/Repositories/UOS_Neurodynamics_Group_10/Training.ipynb#ch0000021?line=31'>32</a>\u001b[0m         convoluted_image[x_image_index][y_image_index] \u001b[39m=\u001b[39m summation\n\u001b[0;32m     <a href='vscode-notebook-cell:/d%3A/Repositories/UOS_Neurodynamics_Group_10/Training.ipynb#ch0000021?line=32'>33</a>\u001b[0m \u001b[39mreturn\u001b[39;00m convoluted_image\n",
      "\u001b[1;31mKeyboardInterrupt\u001b[0m: "
     ]
    }
   ],
   "source": [
    "accuracies = []\n",
    "layer_sizes = [10, 50, 100, 200, 400, 800, 1000]\n",
    "for layer in layer_sizes:\n",
    "    accuracies.append({\"Neurons\":layer, \"Accuracy\":train(layer1_size, layer2_size=layer, epochs=5)})\n",
    "    print(accuracies)\n",
    "print(accuracies)"
   ]
  },
  {
   "cell_type": "code",
   "execution_count": null,
   "metadata": {},
   "outputs": [
    {
     "data": {
      "text/plain": [
       "[<matplotlib.lines.Line2D at 0x17ffeefe550>]"
      ]
     },
     "execution_count": 22,
     "metadata": {},
     "output_type": "execute_result"
    },
    {
     "data": {
      "image/png": "[encoded data removed]",
      "text/plain": [
       "<Figure size 720x432 with 1 Axes>"
      ]
     },
     "metadata": {
      "needs_background": "light"
     },
     "output_type": "display_data"
    }
   ],
   "source": [
    "x = [e[\"Accuracy\"][0] for e in accuracies]\n",
    "y = [e[\"Neurons\"] for e in accuracies]\n",
    "\n",
    "plt.figure(figsize=(10, 6))\n",
    "plt.title(\"Training accuracy of SNNs\")\n",
    "plt.ylabel('Accuracy')\n",
    "plt.xlabel('Neurons hidden layer')\n",
    "plt.plot(y[:-1], x[:-1])"
   ]
  },
  {
   "cell_type": "code",
   "execution_count": 49,
   "metadata": {},
   "outputs": [
    {
     "name": "stdout",
     "output_type": "stream",
     "text": [
      "Converting data...\n",
      "...done\n",
      "Epoch: 0\n",
      "[0, 0, 0, 0, 0, 0, 0, 0, 0, 0, 1, 1, 5, 1, 3, 8, 8, 1, 1, 1, 2, 0, 2, 2, 2, 2, 0, 2, 2, 0, 8, 0, 8, 5, 8, 3, 8, 9, 3, 3, 4, 4, 0, 4, 0, 4, 4, 4, 0, 0, 5, 5, 8, 0, 6, 8, 5, 0, 6, 5, 0, 0, 6, 0, 0, 0, 0, 8, 0, 6, 7, 7, 9, 7, 8, 7, 7, 8, 9, 7, 8, 8, 8, 8, 8, 8, 4, 8, 2, 0, 7, 2, 9, 5, 8, 0, 9, 9, 2, 7]\n",
      "['0', '0', '0', '0', '0', '0', '0', '0', '0', '0', '1', '1', '1', '1', '1', '1', '1', '1', '1', '1', '2', '2', '2', '2', '2', '2', '2', '2', '2', '2', '3', '3', '3', '3', '3', '3', '3', '3', '3', '3', '4', '4', '4', '4', '4', '4', '4', '4', '4', '4', '5', '5', '5', '5', '5', '5', '5', '5', '5', '5', '6', '6', '6', '6', '6', '6', '6', '6', '6', '6', '7', '7', '7', '7', '7', '7', '7', '7', '7', '7', '8', '8', '8', '8', '8', '8', '8', '8', '8', '8', '9', '9', '9', '9', '9', '9', '9', '9', '9', '9']\n"
     ]
    },
    {
     "name": "stderr",
     "output_type": "stream",
     "text": [
      "C:\\Users\\wolff\\AppData\\Local\\Temp\\ipykernel_64352\\3657520479.py:57: FutureWarning: elementwise comparison failed; returning scalar instead, but in the future will perform elementwise comparison\n",
      "  accuracy=(np.sum(np.array(predicted_class)==np.array(actual_class))/len(predicted_class))*100\n"
     ]
    },
    {
     "name": "stdout",
     "output_type": "stream",
     "text": [
      "Accucarcy at epoch 0: 0.54\n",
      "Epoch: 1\n"
     ]
    },
    {
     "ename": "KeyboardInterrupt",
     "evalue": "",
     "output_type": "error",
     "traceback": [
      "\u001b[1;31m---------------------------------------------------------------------------\u001b[0m",
      "\u001b[1;31mKeyboardInterrupt\u001b[0m                         Traceback (most recent call last)",
      "\u001b[1;32md:\\Repositories\\UOS_Neurodynamics_Group_10\\Training.ipynb Zelle 23\u001b[0m in \u001b[0;36m<cell line: 3>\u001b[1;34m()\u001b[0m\n\u001b[0;32m      <a href='vscode-notebook-cell:/d%3A/Repositories/UOS_Neurodynamics_Group_10/Training.ipynb#ch0000023?line=1'>2</a>\u001b[0m image_sizes \u001b[39m=\u001b[39m [\u001b[39m40\u001b[39m, \u001b[39m80\u001b[39m, \u001b[39m160\u001b[39m, \u001b[39m320\u001b[39m, \u001b[39m640\u001b[39m, \u001b[39m1280\u001b[39m]\n\u001b[0;32m      <a href='vscode-notebook-cell:/d%3A/Repositories/UOS_Neurodynamics_Group_10/Training.ipynb#ch0000023?line=2'>3</a>\u001b[0m \u001b[39mfor\u001b[39;00m number \u001b[39min\u001b[39;00m image_sizes:\n\u001b[1;32m----> <a href='vscode-notebook-cell:/d%3A/Repositories/UOS_Neurodynamics_Group_10/Training.ipynb#ch0000023?line=3'>4</a>\u001b[0m     accuracies\u001b[39m.\u001b[39mappend({\u001b[39m\"\u001b[39m\u001b[39mImages\u001b[39m\u001b[39m\"\u001b[39m:number, \u001b[39m\"\u001b[39m\u001b[39mAccuracy\u001b[39m\u001b[39m\"\u001b[39m:train(layer1_size, layer2_size\u001b[39m=\u001b[39;49m\u001b[39m800\u001b[39;49m, epochs\u001b[39m=\u001b[39;49m\u001b[39m3\u001b[39;49m, number_of_pictures\u001b[39m=\u001b[39;49mnumber)})\n\u001b[0;32m      <a href='vscode-notebook-cell:/d%3A/Repositories/UOS_Neurodynamics_Group_10/Training.ipynb#ch0000023?line=4'>5</a>\u001b[0m     \u001b[39mprint\u001b[39m(accuracies)\n\u001b[0;32m      <a href='vscode-notebook-cell:/d%3A/Repositories/UOS_Neurodynamics_Group_10/Training.ipynb#ch0000023?line=5'>6</a>\u001b[0m \u001b[39mprint\u001b[39m(accuracies)\n",
      "\u001b[1;32md:\\Repositories\\UOS_Neurodynamics_Group_10\\Training.ipynb Zelle 23\u001b[0m in \u001b[0;36mtrain\u001b[1;34m(layer1_size, layer2_size, spike_drop_rate, threshold_drop_rate, epochs, number_of_pictures, checkpoint_interval)\u001b[0m\n\u001b[0;32m     <a href='vscode-notebook-cell:/d%3A/Repositories/UOS_Neurodynamics_Group_10/Training.ipynb#ch0000023?line=78'>79</a>\u001b[0m \u001b[39mfor\u001b[39;00m past_time_step \u001b[39min\u001b[39;00m \u001b[39mrange\u001b[39m(\u001b[39m0\u001b[39m, past_window\u001b[39m-\u001b[39m\u001b[39m1\u001b[39m, \u001b[39m-\u001b[39m\u001b[39m1\u001b[39m): \u001b[39m# if presynaptic spike came before postsynaptic spike\u001b[39;00m\n\u001b[0;32m     <a href='vscode-notebook-cell:/d%3A/Repositories/UOS_Neurodynamics_Group_10/Training.ipynb#ch0000023?line=79'>80</a>\u001b[0m     \u001b[39mif\u001b[39;00m \u001b[39m0\u001b[39m \u001b[39m<\u001b[39m\u001b[39m=\u001b[39m time_step \u001b[39m+\u001b[39m past_time_step \u001b[39m<\u001b[39m image_train_time \u001b[39m+\u001b[39m \u001b[39m1\u001b[39m:\n\u001b[1;32m---> <a href='vscode-notebook-cell:/d%3A/Repositories/UOS_Neurodynamics_Group_10/Training.ipynb#ch0000023?line=80'>81</a>\u001b[0m         \u001b[39mif\u001b[39;00m spike_train[layer1_index][time_step \u001b[39m+\u001b[39;49m past_time_step] \u001b[39m==\u001b[39;49m \u001b[39m1\u001b[39;49m:  \u001b[39m# if presynaptic spike was in the tolerance window\u001b[39;00m\n\u001b[0;32m     <a href='vscode-notebook-cell:/d%3A/Repositories/UOS_Neurodynamics_Group_10/Training.ipynb#ch0000023?line=81'>82</a>\u001b[0m             synapses[winner_index][layer1_index] \u001b[39m=\u001b[39m update_synapse(synapses[winner_index][layer1_index], STDP_weighting_curve(past_time_step))  \u001b[39m# strengthen weights\u001b[39;00m\n\u001b[0;32m     <a href='vscode-notebook-cell:/d%3A/Repositories/UOS_Neurodynamics_Group_10/Training.ipynb#ch0000023?line=82'>83</a>\u001b[0m             synapse_memory[winner_index][layer1_index] \u001b[39m=\u001b[39m \u001b[39m1\u001b[39m\n",
      "\u001b[1;31mKeyboardInterrupt\u001b[0m: "
     ]
    }
   ],
   "source": [
    "accuracies = []\n",
    "image_sizes = [40, 80, 160, 320, 640, 1280]\n",
    "for number in image_sizes:\n",
    "    accuracies.append({\"Images\":number, \"Accuracy\":train(layer1_size, layer2_size=800, epochs=3, number_of_pictures=number)})\n",
    "    print(accuracies)\n",
    "print(accuracies)"
   ]
  }
 ],
 "metadata": {
  "kernelspec": {
   "display_name": "Python 3.9.13 ('py39')",
   "language": "python",
   "name": "python3"
  },
  "language_info": {
   "codemirror_mode": {
    "name": "ipython",
    "version": 3
   },
   "file_extension": ".py",
   "mimetype": "text/x-python",
   "name": "python",
   "nbconvert_exporter": "python",
   "pygments_lexer": "ipython3",
   "version": "3.9.13"
  },
  "orig_nbformat": 4,
  "vscode": {
   "interpreter": {
    "hash": "fb0516aff259adf2398ebd5817f5948baaa2064eee6b505f5de244dcbeae2ba7"
   }
  }
 },
 "nbformat": 4,
 "nbformat_minor": 2
}
